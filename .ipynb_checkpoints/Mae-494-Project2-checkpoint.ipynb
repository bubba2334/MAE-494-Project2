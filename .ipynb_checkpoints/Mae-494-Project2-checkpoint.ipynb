{
 "cells": [
  {
   "cell_type": "markdown",
   "id": "a95aeff5",
   "metadata": {},
   "source": [
    "test"
   ]
  },
  {
   "cell_type": "markdown",
   "id": "fc21e65c",
   "metadata": {},
   "source": [
    "test again"
   ]
  },
  {
   "cell_type": "code",
   "execution_count": null,
   "id": "1c9fe8b0",
   "metadata": {},
   "outputs": [],
   "source": []
  }
 ],
 "metadata": {
  "kernelspec": {
   "display_name": "Python 3",
   "language": "python",
   "name": "python3"
  },
  "language_info": {
   "codemirror_mode": {
    "name": "ipython",
    "version": 3
   },
   "file_extension": ".py",
   "mimetype": "text/x-python",
   "name": "python",
   "nbconvert_exporter": "python",
   "pygments_lexer": "ipython3",
   "version": "3.8.8"
  }
 },
 "nbformat": 4,
 "nbformat_minor": 5
}
